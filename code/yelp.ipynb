{
 "cells": [
  {
   "cell_type": "code",
   "execution_count": 1,
   "metadata": {},
   "outputs": [],
   "source": [
    "import pandas as pd"
   ]
  },
  {
   "cell_type": "code",
   "execution_count": 2,
   "metadata": {
    "scrolled": true
   },
   "outputs": [
    {
     "output_type": "execute_result",
     "data": {
      "text/plain": [
       "                review_id                 user_id             business_id  \\\n",
       "0  LG2ZaYiOgpr2DK_90pYjNw  V34qejxNsCbcgD8C0HVk-Q  HQl28KMwrEKHqhFrrDqVNQ   \n",
       "1  qWHp2l2lysENZObh6MAulA  5lb0POg2t-AkMFx6603cYQ  ZlCSsWS07JulSBIQlrbF5w   \n",
       "2  Ne_2CSfcKIqXHmv_KC0uqg  6sJN_HlM_uwpfLJ1puf1Fg  oVuZtlCFg_zF090Nhtp0Ow   \n",
       "3  2mLlQ9n5Ln_fykOuX_b0-A  EZ6g9a17UdMjtR-wrZebmA  wSAGILK2CFbq5BVZ5D67-A   \n",
       "4  Ymb8ZYPg2e8dvqhdj3Gkqw  hHFSpKcnDtJOs6M-JKFZ8Q  oCvxJBOs-Mbg-4oanPO7lQ   \n",
       "\n",
       "   stars  useful  funny  cool  \\\n",
       "0      5       1      0     0   \n",
       "1      5       1      0     0   \n",
       "2      4       3      0     1   \n",
       "3      3       0      0     0   \n",
       "4      4       0      0     0   \n",
       "\n",
       "                                                text                date  \n",
       "0  I love Deagan's. I do. I really do. The atmosp... 2015-12-05 03:18:11  \n",
       "1  Called for a 5:15 morning reservation. The dri... 2015-05-26 10:36:47  \n",
       "2  A close friend was in town and so instead of t... 2018-02-01 19:15:00  \n",
       "3  The service is attentive. The decor attractive... 2015-06-21 00:07:59  \n",
       "4  The ingredients are always fresh and I like th... 2016-10-26 14:53:42  "
      ],
      "text/html": "<div>\n<style scoped>\n    .dataframe tbody tr th:only-of-type {\n        vertical-align: middle;\n    }\n\n    .dataframe tbody tr th {\n        vertical-align: top;\n    }\n\n    .dataframe thead th {\n        text-align: right;\n    }\n</style>\n<table border=\"1\" class=\"dataframe\">\n  <thead>\n    <tr style=\"text-align: right;\">\n      <th></th>\n      <th>review_id</th>\n      <th>user_id</th>\n      <th>business_id</th>\n      <th>stars</th>\n      <th>useful</th>\n      <th>funny</th>\n      <th>cool</th>\n      <th>text</th>\n      <th>date</th>\n    </tr>\n  </thead>\n  <tbody>\n    <tr>\n      <th>0</th>\n      <td>LG2ZaYiOgpr2DK_90pYjNw</td>\n      <td>V34qejxNsCbcgD8C0HVk-Q</td>\n      <td>HQl28KMwrEKHqhFrrDqVNQ</td>\n      <td>5</td>\n      <td>1</td>\n      <td>0</td>\n      <td>0</td>\n      <td>I love Deagan's. I do. I really do. The atmosp...</td>\n      <td>2015-12-05 03:18:11</td>\n    </tr>\n    <tr>\n      <th>1</th>\n      <td>qWHp2l2lysENZObh6MAulA</td>\n      <td>5lb0POg2t-AkMFx6603cYQ</td>\n      <td>ZlCSsWS07JulSBIQlrbF5w</td>\n      <td>5</td>\n      <td>1</td>\n      <td>0</td>\n      <td>0</td>\n      <td>Called for a 5:15 morning reservation. The dri...</td>\n      <td>2015-05-26 10:36:47</td>\n    </tr>\n    <tr>\n      <th>2</th>\n      <td>Ne_2CSfcKIqXHmv_KC0uqg</td>\n      <td>6sJN_HlM_uwpfLJ1puf1Fg</td>\n      <td>oVuZtlCFg_zF090Nhtp0Ow</td>\n      <td>4</td>\n      <td>3</td>\n      <td>0</td>\n      <td>1</td>\n      <td>A close friend was in town and so instead of t...</td>\n      <td>2018-02-01 19:15:00</td>\n    </tr>\n    <tr>\n      <th>3</th>\n      <td>2mLlQ9n5Ln_fykOuX_b0-A</td>\n      <td>EZ6g9a17UdMjtR-wrZebmA</td>\n      <td>wSAGILK2CFbq5BVZ5D67-A</td>\n      <td>3</td>\n      <td>0</td>\n      <td>0</td>\n      <td>0</td>\n      <td>The service is attentive. The decor attractive...</td>\n      <td>2015-06-21 00:07:59</td>\n    </tr>\n    <tr>\n      <th>4</th>\n      <td>Ymb8ZYPg2e8dvqhdj3Gkqw</td>\n      <td>hHFSpKcnDtJOs6M-JKFZ8Q</td>\n      <td>oCvxJBOs-Mbg-4oanPO7lQ</td>\n      <td>4</td>\n      <td>0</td>\n      <td>0</td>\n      <td>0</td>\n      <td>The ingredients are always fresh and I like th...</td>\n      <td>2016-10-26 14:53:42</td>\n    </tr>\n  </tbody>\n</table>\n</div>"
     },
     "metadata": {},
     "execution_count": 2
    }
   ],
   "source": [
    "review = pd.read_json('Data/review_city.json',lines=True)\n",
    "review.head()"
   ]
  },
  {
   "cell_type": "code",
   "execution_count": 3,
   "metadata": {},
   "outputs": [
    {
     "output_type": "execute_result",
     "data": {
      "text/plain": [
       "(942027, 9)"
      ]
     },
     "metadata": {},
     "execution_count": 3
    }
   ],
   "source": [
    "review.shape"
   ]
  },
  {
   "cell_type": "code",
   "execution_count": 4,
   "metadata": {
    "scrolled": true
   },
   "outputs": [
    {
     "output_type": "execute_result",
     "data": {
      "text/plain": [
       "              business_id                          name  \\\n",
       "0  pQeaRpvuhoEqudo3uymHIQ           The Empanadas House   \n",
       "1  7Dv4_HAxsxvadEsT5fxQBg   Dependable Brakes & Exhaust   \n",
       "2  M_guz7Dj7hX0evS672wIwA    Chocolate Shoppe Ice Cream   \n",
       "3  03x6ZlJ7s39DHqfTJU1Ecg        Beechmont Country Club   \n",
       "4  _4Oe9V-qTpU5iemM9bphlA  Goodyear Auto Service Center   \n",
       "\n",
       "                         address        city state postal_code   latitude  \\\n",
       "0                 404 E Green St   Champaign    IL       61820  40.110446   \n",
       "1         1110 Saw Mill Run Blvd  Pittsburgh    PA       15226  40.406667   \n",
       "2              2831 Parmenter St   Middleton    WI       53562  43.105310   \n",
       "3             29600 Chagrin Blvd   Beachwood    OH       44122  41.461448   \n",
       "4  800 Fort Duquesne Blvd, Ste 1  Pittsburgh    PA       15222  40.444614   \n",
       "\n",
       "   longitude  stars  review_count  is_open  \\\n",
       "0 -88.233073    4.5             5        1   \n",
       "1 -80.004450    5.0             5        1   \n",
       "2 -89.510142    3.5             6        1   \n",
       "3 -81.470127    4.5             7        1   \n",
       "4 -79.999344    3.5            12        1   \n",
       "\n",
       "                                          attributes  \\\n",
       "0  {'RestaurantsAttire': 'u'casual'', 'Restaurant...   \n",
       "1             {'BusinessAcceptsCreditCards': 'True'}   \n",
       "2  {'BikeParking': 'True', 'Caters': 'True', 'Whe...   \n",
       "3  {'GoodForKids': 'True', 'BusinessAcceptsCredit...   \n",
       "4             {'BusinessAcceptsCreditCards': 'True'}   \n",
       "\n",
       "                                          categories  \\\n",
       "0  Ethnic Food, Food Trucks, Specialty Food, Impo...   \n",
       "1                            Automotive, Auto Repair   \n",
       "2          Desserts, Food, Ice Cream & Frozen Yogurt   \n",
       "3  Event Planning & Services, Venues & Event Spac...   \n",
       "4  Oil Change Stations, Auto Repair, Automotive, ...   \n",
       "\n",
       "                                               hours  \n",
       "0  {'Monday': '11:30-14:30', 'Tuesday': '11:30-14...  \n",
       "1  {'Monday': '8:0-17:0', 'Tuesday': '8:0-17:0', ...  \n",
       "2  {'Monday': '0:0-0:0', 'Tuesday': '11:0-21:0', ...  \n",
       "3                                               None  \n",
       "4  {'Monday': '7:0-18:0', 'Tuesday': '7:0-18:0', ...  "
      ],
      "text/html": "<div>\n<style scoped>\n    .dataframe tbody tr th:only-of-type {\n        vertical-align: middle;\n    }\n\n    .dataframe tbody tr th {\n        vertical-align: top;\n    }\n\n    .dataframe thead th {\n        text-align: right;\n    }\n</style>\n<table border=\"1\" class=\"dataframe\">\n  <thead>\n    <tr style=\"text-align: right;\">\n      <th></th>\n      <th>business_id</th>\n      <th>name</th>\n      <th>address</th>\n      <th>city</th>\n      <th>state</th>\n      <th>postal_code</th>\n      <th>latitude</th>\n      <th>longitude</th>\n      <th>stars</th>\n      <th>review_count</th>\n      <th>is_open</th>\n      <th>attributes</th>\n      <th>categories</th>\n      <th>hours</th>\n    </tr>\n  </thead>\n  <tbody>\n    <tr>\n      <th>0</th>\n      <td>pQeaRpvuhoEqudo3uymHIQ</td>\n      <td>The Empanadas House</td>\n      <td>404 E Green St</td>\n      <td>Champaign</td>\n      <td>IL</td>\n      <td>61820</td>\n      <td>40.110446</td>\n      <td>-88.233073</td>\n      <td>4.5</td>\n      <td>5</td>\n      <td>1</td>\n      <td>{'RestaurantsAttire': 'u'casual'', 'Restaurant...</td>\n      <td>Ethnic Food, Food Trucks, Specialty Food, Impo...</td>\n      <td>{'Monday': '11:30-14:30', 'Tuesday': '11:30-14...</td>\n    </tr>\n    <tr>\n      <th>1</th>\n      <td>7Dv4_HAxsxvadEsT5fxQBg</td>\n      <td>Dependable Brakes &amp; Exhaust</td>\n      <td>1110 Saw Mill Run Blvd</td>\n      <td>Pittsburgh</td>\n      <td>PA</td>\n      <td>15226</td>\n      <td>40.406667</td>\n      <td>-80.004450</td>\n      <td>5.0</td>\n      <td>5</td>\n      <td>1</td>\n      <td>{'BusinessAcceptsCreditCards': 'True'}</td>\n      <td>Automotive, Auto Repair</td>\n      <td>{'Monday': '8:0-17:0', 'Tuesday': '8:0-17:0', ...</td>\n    </tr>\n    <tr>\n      <th>2</th>\n      <td>M_guz7Dj7hX0evS672wIwA</td>\n      <td>Chocolate Shoppe Ice Cream</td>\n      <td>2831 Parmenter St</td>\n      <td>Middleton</td>\n      <td>WI</td>\n      <td>53562</td>\n      <td>43.105310</td>\n      <td>-89.510142</td>\n      <td>3.5</td>\n      <td>6</td>\n      <td>1</td>\n      <td>{'BikeParking': 'True', 'Caters': 'True', 'Whe...</td>\n      <td>Desserts, Food, Ice Cream &amp; Frozen Yogurt</td>\n      <td>{'Monday': '0:0-0:0', 'Tuesday': '11:0-21:0', ...</td>\n    </tr>\n    <tr>\n      <th>3</th>\n      <td>03x6ZlJ7s39DHqfTJU1Ecg</td>\n      <td>Beechmont Country Club</td>\n      <td>29600 Chagrin Blvd</td>\n      <td>Beachwood</td>\n      <td>OH</td>\n      <td>44122</td>\n      <td>41.461448</td>\n      <td>-81.470127</td>\n      <td>4.5</td>\n      <td>7</td>\n      <td>1</td>\n      <td>{'GoodForKids': 'True', 'BusinessAcceptsCredit...</td>\n      <td>Event Planning &amp; Services, Venues &amp; Event Spac...</td>\n      <td>None</td>\n    </tr>\n    <tr>\n      <th>4</th>\n      <td>_4Oe9V-qTpU5iemM9bphlA</td>\n      <td>Goodyear Auto Service Center</td>\n      <td>800 Fort Duquesne Blvd, Ste 1</td>\n      <td>Pittsburgh</td>\n      <td>PA</td>\n      <td>15222</td>\n      <td>40.444614</td>\n      <td>-79.999344</td>\n      <td>3.5</td>\n      <td>12</td>\n      <td>1</td>\n      <td>{'BusinessAcceptsCreditCards': 'True'}</td>\n      <td>Oil Change Stations, Auto Repair, Automotive, ...</td>\n      <td>{'Monday': '7:0-18:0', 'Tuesday': '7:0-18:0', ...</td>\n    </tr>\n  </tbody>\n</table>\n</div>"
     },
     "metadata": {},
     "execution_count": 4
    }
   ],
   "source": [
    "business = pd.read_json('Data/business_city.json', lines=True)\n",
    "business.head()"
   ]
  },
  {
   "cell_type": "code",
   "execution_count": 5,
   "metadata": {},
   "outputs": [
    {
     "output_type": "execute_result",
     "data": {
      "text/plain": [
       "(36327, 14)"
      ]
     },
     "metadata": {},
     "execution_count": 5
    }
   ],
   "source": [
    "business.shape"
   ]
  },
  {
   "cell_type": "code",
   "execution_count": 6,
   "metadata": {},
   "outputs": [
    {
     "output_type": "execute_result",
     "data": {
      "text/plain": [
       "                review_id                 user_id             business_id  \\\n",
       "0  LG2ZaYiOgpr2DK_90pYjNw  V34qejxNsCbcgD8C0HVk-Q  HQl28KMwrEKHqhFrrDqVNQ   \n",
       "1  qWHp2l2lysENZObh6MAulA  5lb0POg2t-AkMFx6603cYQ  ZlCSsWS07JulSBIQlrbF5w   \n",
       "2  Ne_2CSfcKIqXHmv_KC0uqg  6sJN_HlM_uwpfLJ1puf1Fg  oVuZtlCFg_zF090Nhtp0Ow   \n",
       "3  2mLlQ9n5Ln_fykOuX_b0-A  EZ6g9a17UdMjtR-wrZebmA  wSAGILK2CFbq5BVZ5D67-A   \n",
       "4  Ymb8ZYPg2e8dvqhdj3Gkqw  hHFSpKcnDtJOs6M-JKFZ8Q  oCvxJBOs-Mbg-4oanPO7lQ   \n",
       "\n",
       "   stars_x  useful  funny  cool  \\\n",
       "0        5       1      0     0   \n",
       "1        5       1      0     0   \n",
       "2        4       3      0     1   \n",
       "3        3       0      0     0   \n",
       "4        4       0      0     0   \n",
       "\n",
       "                                                text                date  \\\n",
       "0  I love Deagan's. I do. I really do. The atmosp... 2015-12-05 03:18:11   \n",
       "1  Called for a 5:15 morning reservation. The dri... 2015-05-26 10:36:47   \n",
       "2  A close friend was in town and so instead of t... 2018-02-01 19:15:00   \n",
       "3  The service is attentive. The decor attractive... 2015-06-21 00:07:59   \n",
       "4  The ingredients are always fresh and I like th... 2016-10-26 14:53:42   \n",
       "\n",
       "                     name  ... state postal_code   latitude  longitude  \\\n",
       "0  Deagan's Kitchen & Bar  ...    OH       44107  41.485192 -81.800145   \n",
       "1        Black Cab & Limo  ...    IL              40.116420 -88.243383   \n",
       "2     Choolaah Indian BBQ  ...    PA       15206  40.460266 -79.923461   \n",
       "3                   Adega  ...    OH       44115  41.499615 -81.685922   \n",
       "4                Pita Pit  ...    PA       15203  40.426647 -79.965902   \n",
       "\n",
       "   stars_y  review_count  is_open  \\\n",
       "0      4.0           417        1   \n",
       "1      4.5            28        1   \n",
       "2      4.0           302        1   \n",
       "3      4.0           201        1   \n",
       "4      3.5            57        1   \n",
       "\n",
       "                                          attributes  \\\n",
       "0  {'BusinessAcceptsCreditCards': 'True', 'Outdoo...   \n",
       "1                                {'WiFi': 'u'free''}   \n",
       "2  {'RestaurantsTableService': 'False', 'Restaura...   \n",
       "3  {'BusinessAcceptsCreditCards': 'True', 'Restau...   \n",
       "4  {'RestaurantsPriceRange2': '1', 'RestaurantsAt...   \n",
       "\n",
       "                                          categories  \\\n",
       "0  Restaurants, Gastropubs, Nightlife, American (...   \n",
       "1  Airport Shuttles, Transportation, Taxis, Hotel...   \n",
       "2  Restaurants, Indian, Vegetarian, Vegan, Gluten...   \n",
       "3  Mediterranean, Hotels, Beer, Wine & Spirits, B...   \n",
       "4  Fast Food, Greek, Breakfast & Brunch, Restaura...   \n",
       "\n",
       "                                               hours  \n",
       "0  {'Tuesday': '11:0-22:0', 'Wednesday': '11:0-22...  \n",
       "1  {'Monday': '8:0-20:0', 'Tuesday': '8:0-20:0', ...  \n",
       "2  {'Monday': '0:0-0:0', 'Tuesday': '11:0-17:0', ...  \n",
       "3  {'Monday': '6:30-22:0', 'Tuesday': '6:30-22:0'...  \n",
       "4  {'Monday': '10:0-22:0', 'Tuesday': '10:0-22:0'...  \n",
       "\n",
       "[5 rows x 22 columns]"
      ],
      "text/html": "<div>\n<style scoped>\n    .dataframe tbody tr th:only-of-type {\n        vertical-align: middle;\n    }\n\n    .dataframe tbody tr th {\n        vertical-align: top;\n    }\n\n    .dataframe thead th {\n        text-align: right;\n    }\n</style>\n<table border=\"1\" class=\"dataframe\">\n  <thead>\n    <tr style=\"text-align: right;\">\n      <th></th>\n      <th>review_id</th>\n      <th>user_id</th>\n      <th>business_id</th>\n      <th>stars_x</th>\n      <th>useful</th>\n      <th>funny</th>\n      <th>cool</th>\n      <th>text</th>\n      <th>date</th>\n      <th>name</th>\n      <th>...</th>\n      <th>state</th>\n      <th>postal_code</th>\n      <th>latitude</th>\n      <th>longitude</th>\n      <th>stars_y</th>\n      <th>review_count</th>\n      <th>is_open</th>\n      <th>attributes</th>\n      <th>categories</th>\n      <th>hours</th>\n    </tr>\n  </thead>\n  <tbody>\n    <tr>\n      <th>0</th>\n      <td>LG2ZaYiOgpr2DK_90pYjNw</td>\n      <td>V34qejxNsCbcgD8C0HVk-Q</td>\n      <td>HQl28KMwrEKHqhFrrDqVNQ</td>\n      <td>5</td>\n      <td>1</td>\n      <td>0</td>\n      <td>0</td>\n      <td>I love Deagan's. I do. I really do. The atmosp...</td>\n      <td>2015-12-05 03:18:11</td>\n      <td>Deagan's Kitchen &amp; Bar</td>\n      <td>...</td>\n      <td>OH</td>\n      <td>44107</td>\n      <td>41.485192</td>\n      <td>-81.800145</td>\n      <td>4.0</td>\n      <td>417</td>\n      <td>1</td>\n      <td>{'BusinessAcceptsCreditCards': 'True', 'Outdoo...</td>\n      <td>Restaurants, Gastropubs, Nightlife, American (...</td>\n      <td>{'Tuesday': '11:0-22:0', 'Wednesday': '11:0-22...</td>\n    </tr>\n    <tr>\n      <th>1</th>\n      <td>qWHp2l2lysENZObh6MAulA</td>\n      <td>5lb0POg2t-AkMFx6603cYQ</td>\n      <td>ZlCSsWS07JulSBIQlrbF5w</td>\n      <td>5</td>\n      <td>1</td>\n      <td>0</td>\n      <td>0</td>\n      <td>Called for a 5:15 morning reservation. The dri...</td>\n      <td>2015-05-26 10:36:47</td>\n      <td>Black Cab &amp; Limo</td>\n      <td>...</td>\n      <td>IL</td>\n      <td></td>\n      <td>40.116420</td>\n      <td>-88.243383</td>\n      <td>4.5</td>\n      <td>28</td>\n      <td>1</td>\n      <td>{'WiFi': 'u'free''}</td>\n      <td>Airport Shuttles, Transportation, Taxis, Hotel...</td>\n      <td>{'Monday': '8:0-20:0', 'Tuesday': '8:0-20:0', ...</td>\n    </tr>\n    <tr>\n      <th>2</th>\n      <td>Ne_2CSfcKIqXHmv_KC0uqg</td>\n      <td>6sJN_HlM_uwpfLJ1puf1Fg</td>\n      <td>oVuZtlCFg_zF090Nhtp0Ow</td>\n      <td>4</td>\n      <td>3</td>\n      <td>0</td>\n      <td>1</td>\n      <td>A close friend was in town and so instead of t...</td>\n      <td>2018-02-01 19:15:00</td>\n      <td>Choolaah Indian BBQ</td>\n      <td>...</td>\n      <td>PA</td>\n      <td>15206</td>\n      <td>40.460266</td>\n      <td>-79.923461</td>\n      <td>4.0</td>\n      <td>302</td>\n      <td>1</td>\n      <td>{'RestaurantsTableService': 'False', 'Restaura...</td>\n      <td>Restaurants, Indian, Vegetarian, Vegan, Gluten...</td>\n      <td>{'Monday': '0:0-0:0', 'Tuesday': '11:0-17:0', ...</td>\n    </tr>\n    <tr>\n      <th>3</th>\n      <td>2mLlQ9n5Ln_fykOuX_b0-A</td>\n      <td>EZ6g9a17UdMjtR-wrZebmA</td>\n      <td>wSAGILK2CFbq5BVZ5D67-A</td>\n      <td>3</td>\n      <td>0</td>\n      <td>0</td>\n      <td>0</td>\n      <td>The service is attentive. The decor attractive...</td>\n      <td>2015-06-21 00:07:59</td>\n      <td>Adega</td>\n      <td>...</td>\n      <td>OH</td>\n      <td>44115</td>\n      <td>41.499615</td>\n      <td>-81.685922</td>\n      <td>4.0</td>\n      <td>201</td>\n      <td>1</td>\n      <td>{'BusinessAcceptsCreditCards': 'True', 'Restau...</td>\n      <td>Mediterranean, Hotels, Beer, Wine &amp; Spirits, B...</td>\n      <td>{'Monday': '6:30-22:0', 'Tuesday': '6:30-22:0'...</td>\n    </tr>\n    <tr>\n      <th>4</th>\n      <td>Ymb8ZYPg2e8dvqhdj3Gkqw</td>\n      <td>hHFSpKcnDtJOs6M-JKFZ8Q</td>\n      <td>oCvxJBOs-Mbg-4oanPO7lQ</td>\n      <td>4</td>\n      <td>0</td>\n      <td>0</td>\n      <td>0</td>\n      <td>The ingredients are always fresh and I like th...</td>\n      <td>2016-10-26 14:53:42</td>\n      <td>Pita Pit</td>\n      <td>...</td>\n      <td>PA</td>\n      <td>15203</td>\n      <td>40.426647</td>\n      <td>-79.965902</td>\n      <td>3.5</td>\n      <td>57</td>\n      <td>1</td>\n      <td>{'RestaurantsPriceRange2': '1', 'RestaurantsAt...</td>\n      <td>Fast Food, Greek, Breakfast &amp; Brunch, Restaura...</td>\n      <td>{'Monday': '10:0-22:0', 'Tuesday': '10:0-22:0'...</td>\n    </tr>\n  </tbody>\n</table>\n<p>5 rows × 22 columns</p>\n</div>"
     },
     "metadata": {},
     "execution_count": 6
    }
   ],
   "source": [
    "df_raw = pd.merge(review, business, how='left', on='business_id')\n",
    "df_raw.head()"
   ]
  },
  {
   "cell_type": "code",
   "execution_count": 7,
   "metadata": {},
   "outputs": [
    {
     "output_type": "execute_result",
     "data": {
      "text/plain": [
       "(942027, 22)"
      ]
     },
     "metadata": {},
     "execution_count": 7
    }
   ],
   "source": [
    "df_raw.shape"
   ]
  },
  {
   "cell_type": "code",
   "execution_count": 8,
   "metadata": {},
   "outputs": [
    {
     "output_type": "execute_result",
     "data": {
      "text/plain": [
       "Index(['review_id', 'user_id', 'business_id', 'stars_x', 'useful', 'funny',\n",
       "       'cool', 'text', 'date', 'name', 'address', 'city', 'state',\n",
       "       'postal_code', 'latitude', 'longitude', 'stars_y', 'review_count',\n",
       "       'is_open', 'attributes', 'categories', 'hours'],\n",
       "      dtype='object')"
      ]
     },
     "metadata": {},
     "execution_count": 8
    }
   ],
   "source": [
    "df_raw.columns"
   ]
  },
  {
   "cell_type": "code",
   "execution_count": 9,
   "metadata": {
    "scrolled": true
   },
   "outputs": [
    {
     "output_type": "execute_result",
     "data": {
      "text/plain": [
       "   stars_x  useful                                               text  \\\n",
       "0        5       1  I love Deagan's. I do. I really do. The atmosp...   \n",
       "1        5       1  Called for a 5:15 morning reservation. The dri...   \n",
       "2        4       3  A close friend was in town and so instead of t...   \n",
       "3        3       0  The service is attentive. The decor attractive...   \n",
       "4        4       0  The ingredients are always fresh and I like th...   \n",
       "\n",
       "                     name              address        city state postal_code  \\\n",
       "0  Deagan's Kitchen & Bar    14810 Detroit Ave    Lakewood    OH       44107   \n",
       "1        Black Cab & Limo                        Champaign    IL               \n",
       "2     Choolaah Indian BBQ      6114 Centre Ave  Pittsburgh    PA       15206   \n",
       "3                   Adega        2017 E 9th St   Cleveland    OH       44115   \n",
       "4                Pita Pit  2763 East Carson St  Pittsburgh    PA       15203   \n",
       "\n",
       "   stars_y                                         attributes  \\\n",
       "0      4.0  {'BusinessAcceptsCreditCards': 'True', 'Outdoo...   \n",
       "1      4.5                                {'WiFi': 'u'free''}   \n",
       "2      4.0  {'RestaurantsTableService': 'False', 'Restaura...   \n",
       "3      4.0  {'BusinessAcceptsCreditCards': 'True', 'Restau...   \n",
       "4      3.5  {'RestaurantsPriceRange2': '1', 'RestaurantsAt...   \n",
       "\n",
       "                                          categories  \n",
       "0  Restaurants, Gastropubs, Nightlife, American (...  \n",
       "1  Airport Shuttles, Transportation, Taxis, Hotel...  \n",
       "2  Restaurants, Indian, Vegetarian, Vegan, Gluten...  \n",
       "3  Mediterranean, Hotels, Beer, Wine & Spirits, B...  \n",
       "4  Fast Food, Greek, Breakfast & Brunch, Restaura...  "
      ],
      "text/html": "<div>\n<style scoped>\n    .dataframe tbody tr th:only-of-type {\n        vertical-align: middle;\n    }\n\n    .dataframe tbody tr th {\n        vertical-align: top;\n    }\n\n    .dataframe thead th {\n        text-align: right;\n    }\n</style>\n<table border=\"1\" class=\"dataframe\">\n  <thead>\n    <tr style=\"text-align: right;\">\n      <th></th>\n      <th>stars_x</th>\n      <th>useful</th>\n      <th>text</th>\n      <th>name</th>\n      <th>address</th>\n      <th>city</th>\n      <th>state</th>\n      <th>postal_code</th>\n      <th>stars_y</th>\n      <th>attributes</th>\n      <th>categories</th>\n    </tr>\n  </thead>\n  <tbody>\n    <tr>\n      <th>0</th>\n      <td>5</td>\n      <td>1</td>\n      <td>I love Deagan's. I do. I really do. The atmosp...</td>\n      <td>Deagan's Kitchen &amp; Bar</td>\n      <td>14810 Detroit Ave</td>\n      <td>Lakewood</td>\n      <td>OH</td>\n      <td>44107</td>\n      <td>4.0</td>\n      <td>{'BusinessAcceptsCreditCards': 'True', 'Outdoo...</td>\n      <td>Restaurants, Gastropubs, Nightlife, American (...</td>\n    </tr>\n    <tr>\n      <th>1</th>\n      <td>5</td>\n      <td>1</td>\n      <td>Called for a 5:15 morning reservation. The dri...</td>\n      <td>Black Cab &amp; Limo</td>\n      <td></td>\n      <td>Champaign</td>\n      <td>IL</td>\n      <td></td>\n      <td>4.5</td>\n      <td>{'WiFi': 'u'free''}</td>\n      <td>Airport Shuttles, Transportation, Taxis, Hotel...</td>\n    </tr>\n    <tr>\n      <th>2</th>\n      <td>4</td>\n      <td>3</td>\n      <td>A close friend was in town and so instead of t...</td>\n      <td>Choolaah Indian BBQ</td>\n      <td>6114 Centre Ave</td>\n      <td>Pittsburgh</td>\n      <td>PA</td>\n      <td>15206</td>\n      <td>4.0</td>\n      <td>{'RestaurantsTableService': 'False', 'Restaura...</td>\n      <td>Restaurants, Indian, Vegetarian, Vegan, Gluten...</td>\n    </tr>\n    <tr>\n      <th>3</th>\n      <td>3</td>\n      <td>0</td>\n      <td>The service is attentive. The decor attractive...</td>\n      <td>Adega</td>\n      <td>2017 E 9th St</td>\n      <td>Cleveland</td>\n      <td>OH</td>\n      <td>44115</td>\n      <td>4.0</td>\n      <td>{'BusinessAcceptsCreditCards': 'True', 'Restau...</td>\n      <td>Mediterranean, Hotels, Beer, Wine &amp; Spirits, B...</td>\n    </tr>\n    <tr>\n      <th>4</th>\n      <td>4</td>\n      <td>0</td>\n      <td>The ingredients are always fresh and I like th...</td>\n      <td>Pita Pit</td>\n      <td>2763 East Carson St</td>\n      <td>Pittsburgh</td>\n      <td>PA</td>\n      <td>15203</td>\n      <td>3.5</td>\n      <td>{'RestaurantsPriceRange2': '1', 'RestaurantsAt...</td>\n      <td>Fast Food, Greek, Breakfast &amp; Brunch, Restaura...</td>\n    </tr>\n  </tbody>\n</table>\n</div>"
     },
     "metadata": {},
     "execution_count": 9
    }
   ],
   "source": [
    "df = df_raw.drop(columns=['business_id', 'review_id', 'user_id', 'funny', 'cool', 'date', 'latitude', 'longitude', 'is_open', 'review_count', 'hours'])\n",
    "df.head()"
   ]
  },
  {
   "cell_type": "code",
   "execution_count": 10,
   "metadata": {},
   "outputs": [
    {
     "output_type": "execute_result",
     "data": {
      "text/plain": [
       "(942027, 11)"
      ]
     },
     "metadata": {},
     "execution_count": 10
    }
   ],
   "source": [
    "df.shape"
   ]
  },
  {
   "cell_type": "code",
   "execution_count": null,
   "metadata": {
    "scrolled": false
   },
   "outputs": [],
   "source": [
    "#Madison = df[df.city == 'Madison']\n",
    "#Madison = Madison.drop(columns=['city', 'state'])\n",
    "#Madison.head()"
   ]
  },
  {
   "cell_type": "code",
   "execution_count": null,
   "metadata": {},
   "outputs": [],
   "source": [
    "#Madison.shape"
   ]
  },
  {
   "cell_type": "code",
   "execution_count": null,
   "metadata": {},
   "outputs": [],
   "source": [
    "#Madison.reset_index(drop=True, inplace=True)\n",
    "#Madison.head()"
   ]
  },
  {
   "cell_type": "code",
   "execution_count": 16,
   "metadata": {},
   "outputs": [
    {
     "output_type": "execute_result",
     "data": {
      "text/plain": [
       "     stars_x  useful                                               text  \\\n",
       "108        4       2  Definitely a spot to check out when looking fo...   \n",
       "169        1       1  I gave this place 2 chances. i love japanese f...   \n",
       "188        4       0  Very fresh food and authentic Italian taste. T...   \n",
       "219        5       0  This is my favorite happy hour place in all of...   \n",
       "262        4       1  Ruth Chris Steakhouse is by far one of the bes...   \n",
       "\n",
       "                        name             address        city state  \\\n",
       "108                  Peppi's    12 Smithfield St  Pittsburgh    PA   \n",
       "169                   Katana  3229 W Liberty Ave  Pittsburgh    PA   \n",
       "188         Grandview Saloon  1212 Grandview Ave  Pittsburgh    PA   \n",
       "219       Tempest Oyster Bar     120 E Wilson St     Madison    WI   \n",
       "262  Ruths Chris Steak House            6 PPG Pl  Pittsburgh    PA   \n",
       "\n",
       "    postal_code  stars_y                                         attributes  \\\n",
       "108       15222      4.0  {'RestaurantsReservations': 'False', 'Restaura...   \n",
       "169       15216      3.0  {'RestaurantsAttire': 'u'casual'', 'Restaurant...   \n",
       "188       15211      3.0  {'Alcohol': 'u'full_bar'', 'WiFi': ''free'', '...   \n",
       "219       53703      4.0  {'RestaurantsTakeOut': 'False', 'WiFi': 'u'no'...   \n",
       "262       15222      4.0  {'BusinessParking': '{'garage': False, 'street...   \n",
       "\n",
       "                                            categories  \n",
       "108  Restaurants, Sandwiches, Cheesesteaks, America...  \n",
       "169  Restaurants, Japanese, Sushi Bars, Chinese, St...  \n",
       "188  Restaurants, Steakhouses, Seafood, American (T...  \n",
       "219  Steakhouses, Restaurants, Bars, Seafood, Night...  \n",
       "262                           Restaurants, Steakhouses  "
      ],
      "text/html": "<div>\n<style scoped>\n    .dataframe tbody tr th:only-of-type {\n        vertical-align: middle;\n    }\n\n    .dataframe tbody tr th {\n        vertical-align: top;\n    }\n\n    .dataframe thead th {\n        text-align: right;\n    }\n</style>\n<table border=\"1\" class=\"dataframe\">\n  <thead>\n    <tr style=\"text-align: right;\">\n      <th></th>\n      <th>stars_x</th>\n      <th>useful</th>\n      <th>text</th>\n      <th>name</th>\n      <th>address</th>\n      <th>city</th>\n      <th>state</th>\n      <th>postal_code</th>\n      <th>stars_y</th>\n      <th>attributes</th>\n      <th>categories</th>\n    </tr>\n  </thead>\n  <tbody>\n    <tr>\n      <th>108</th>\n      <td>4</td>\n      <td>2</td>\n      <td>Definitely a spot to check out when looking fo...</td>\n      <td>Peppi's</td>\n      <td>12 Smithfield St</td>\n      <td>Pittsburgh</td>\n      <td>PA</td>\n      <td>15222</td>\n      <td>4.0</td>\n      <td>{'RestaurantsReservations': 'False', 'Restaura...</td>\n      <td>Restaurants, Sandwiches, Cheesesteaks, America...</td>\n    </tr>\n    <tr>\n      <th>169</th>\n      <td>1</td>\n      <td>1</td>\n      <td>I gave this place 2 chances. i love japanese f...</td>\n      <td>Katana</td>\n      <td>3229 W Liberty Ave</td>\n      <td>Pittsburgh</td>\n      <td>PA</td>\n      <td>15216</td>\n      <td>3.0</td>\n      <td>{'RestaurantsAttire': 'u'casual'', 'Restaurant...</td>\n      <td>Restaurants, Japanese, Sushi Bars, Chinese, St...</td>\n    </tr>\n    <tr>\n      <th>188</th>\n      <td>4</td>\n      <td>0</td>\n      <td>Very fresh food and authentic Italian taste. T...</td>\n      <td>Grandview Saloon</td>\n      <td>1212 Grandview Ave</td>\n      <td>Pittsburgh</td>\n      <td>PA</td>\n      <td>15211</td>\n      <td>3.0</td>\n      <td>{'Alcohol': 'u'full_bar'', 'WiFi': ''free'', '...</td>\n      <td>Restaurants, Steakhouses, Seafood, American (T...</td>\n    </tr>\n    <tr>\n      <th>219</th>\n      <td>5</td>\n      <td>0</td>\n      <td>This is my favorite happy hour place in all of...</td>\n      <td>Tempest Oyster Bar</td>\n      <td>120 E Wilson St</td>\n      <td>Madison</td>\n      <td>WI</td>\n      <td>53703</td>\n      <td>4.0</td>\n      <td>{'RestaurantsTakeOut': 'False', 'WiFi': 'u'no'...</td>\n      <td>Steakhouses, Restaurants, Bars, Seafood, Night...</td>\n    </tr>\n    <tr>\n      <th>262</th>\n      <td>4</td>\n      <td>1</td>\n      <td>Ruth Chris Steakhouse is by far one of the bes...</td>\n      <td>Ruths Chris Steak House</td>\n      <td>6 PPG Pl</td>\n      <td>Pittsburgh</td>\n      <td>PA</td>\n      <td>15222</td>\n      <td>4.0</td>\n      <td>{'BusinessParking': '{'garage': False, 'street...</td>\n      <td>Restaurants, Steakhouses</td>\n    </tr>\n  </tbody>\n</table>\n</div>"
     },
     "metadata": {},
     "execution_count": 16
    }
   ],
   "source": [
    "steak = df[df['categories'].str.contains('steak|Steak|STEAK',na=False)]\n",
    "#breakfast = breakfast.drop(columns=['city', 'state'])\n",
    "steak.head()"
   ]
  },
  {
   "cell_type": "code",
   "execution_count": 17,
   "metadata": {},
   "outputs": [
    {
     "output_type": "execute_result",
     "data": {
      "text/plain": [
       "(33629, 11)"
      ]
     },
     "metadata": {},
     "execution_count": 17
    }
   ],
   "source": [
    "steak.shape"
   ]
  },
  {
   "cell_type": "code",
   "execution_count": 18,
   "metadata": {},
   "outputs": [
    {
     "output_type": "execute_result",
     "data": {
      "text/plain": [
       "   stars_x  useful                                               text  \\\n",
       "0        4       2  Definitely a spot to check out when looking fo...   \n",
       "1        1       1  I gave this place 2 chances. i love japanese f...   \n",
       "2        4       0  Very fresh food and authentic Italian taste. T...   \n",
       "3        5       0  This is my favorite happy hour place in all of...   \n",
       "4        4       1  Ruth Chris Steakhouse is by far one of the bes...   \n",
       "\n",
       "                      name             address        city state postal_code  \\\n",
       "0                  Peppi's    12 Smithfield St  Pittsburgh    PA       15222   \n",
       "1                   Katana  3229 W Liberty Ave  Pittsburgh    PA       15216   \n",
       "2         Grandview Saloon  1212 Grandview Ave  Pittsburgh    PA       15211   \n",
       "3       Tempest Oyster Bar     120 E Wilson St     Madison    WI       53703   \n",
       "4  Ruths Chris Steak House            6 PPG Pl  Pittsburgh    PA       15222   \n",
       "\n",
       "   stars_y                                         attributes  \\\n",
       "0      4.0  {'RestaurantsReservations': 'False', 'Restaura...   \n",
       "1      3.0  {'RestaurantsAttire': 'u'casual'', 'Restaurant...   \n",
       "2      3.0  {'Alcohol': 'u'full_bar'', 'WiFi': ''free'', '...   \n",
       "3      4.0  {'RestaurantsTakeOut': 'False', 'WiFi': 'u'no'...   \n",
       "4      4.0  {'BusinessParking': '{'garage': False, 'street...   \n",
       "\n",
       "                                          categories  \n",
       "0  Restaurants, Sandwiches, Cheesesteaks, America...  \n",
       "1  Restaurants, Japanese, Sushi Bars, Chinese, St...  \n",
       "2  Restaurants, Steakhouses, Seafood, American (T...  \n",
       "3  Steakhouses, Restaurants, Bars, Seafood, Night...  \n",
       "4                           Restaurants, Steakhouses  "
      ],
      "text/html": "<div>\n<style scoped>\n    .dataframe tbody tr th:only-of-type {\n        vertical-align: middle;\n    }\n\n    .dataframe tbody tr th {\n        vertical-align: top;\n    }\n\n    .dataframe thead th {\n        text-align: right;\n    }\n</style>\n<table border=\"1\" class=\"dataframe\">\n  <thead>\n    <tr style=\"text-align: right;\">\n      <th></th>\n      <th>stars_x</th>\n      <th>useful</th>\n      <th>text</th>\n      <th>name</th>\n      <th>address</th>\n      <th>city</th>\n      <th>state</th>\n      <th>postal_code</th>\n      <th>stars_y</th>\n      <th>attributes</th>\n      <th>categories</th>\n    </tr>\n  </thead>\n  <tbody>\n    <tr>\n      <th>0</th>\n      <td>4</td>\n      <td>2</td>\n      <td>Definitely a spot to check out when looking fo...</td>\n      <td>Peppi's</td>\n      <td>12 Smithfield St</td>\n      <td>Pittsburgh</td>\n      <td>PA</td>\n      <td>15222</td>\n      <td>4.0</td>\n      <td>{'RestaurantsReservations': 'False', 'Restaura...</td>\n      <td>Restaurants, Sandwiches, Cheesesteaks, America...</td>\n    </tr>\n    <tr>\n      <th>1</th>\n      <td>1</td>\n      <td>1</td>\n      <td>I gave this place 2 chances. i love japanese f...</td>\n      <td>Katana</td>\n      <td>3229 W Liberty Ave</td>\n      <td>Pittsburgh</td>\n      <td>PA</td>\n      <td>15216</td>\n      <td>3.0</td>\n      <td>{'RestaurantsAttire': 'u'casual'', 'Restaurant...</td>\n      <td>Restaurants, Japanese, Sushi Bars, Chinese, St...</td>\n    </tr>\n    <tr>\n      <th>2</th>\n      <td>4</td>\n      <td>0</td>\n      <td>Very fresh food and authentic Italian taste. T...</td>\n      <td>Grandview Saloon</td>\n      <td>1212 Grandview Ave</td>\n      <td>Pittsburgh</td>\n      <td>PA</td>\n      <td>15211</td>\n      <td>3.0</td>\n      <td>{'Alcohol': 'u'full_bar'', 'WiFi': ''free'', '...</td>\n      <td>Restaurants, Steakhouses, Seafood, American (T...</td>\n    </tr>\n    <tr>\n      <th>3</th>\n      <td>5</td>\n      <td>0</td>\n      <td>This is my favorite happy hour place in all of...</td>\n      <td>Tempest Oyster Bar</td>\n      <td>120 E Wilson St</td>\n      <td>Madison</td>\n      <td>WI</td>\n      <td>53703</td>\n      <td>4.0</td>\n      <td>{'RestaurantsTakeOut': 'False', 'WiFi': 'u'no'...</td>\n      <td>Steakhouses, Restaurants, Bars, Seafood, Night...</td>\n    </tr>\n    <tr>\n      <th>4</th>\n      <td>4</td>\n      <td>1</td>\n      <td>Ruth Chris Steakhouse is by far one of the bes...</td>\n      <td>Ruths Chris Steak House</td>\n      <td>6 PPG Pl</td>\n      <td>Pittsburgh</td>\n      <td>PA</td>\n      <td>15222</td>\n      <td>4.0</td>\n      <td>{'BusinessParking': '{'garage': False, 'street...</td>\n      <td>Restaurants, Steakhouses</td>\n    </tr>\n  </tbody>\n</table>\n</div>"
     },
     "metadata": {},
     "execution_count": 18
    }
   ],
   "source": [
    "#Re-index the df dataframe:\n",
    "steak.reset_index(drop=True, inplace=True)\n",
    "steak.head()"
   ]
  },
  {
   "cell_type": "code",
   "execution_count": 19,
   "metadata": {},
   "outputs": [],
   "source": [
    "import nltk\n",
    "#nltk.download('punkt')"
   ]
  },
  {
   "cell_type": "code",
   "execution_count": 21,
   "metadata": {},
   "outputs": [],
   "source": [
    "text = list(steak.text)"
   ]
  },
  {
   "cell_type": "code",
   "execution_count": 22,
   "metadata": {},
   "outputs": [
    {
     "output_type": "execute_result",
     "data": {
      "text/plain": [
       "33629"
      ]
     },
     "metadata": {},
     "execution_count": 22
    }
   ],
   "source": [
    "len(text)"
   ]
  },
  {
   "cell_type": "code",
   "execution_count": 23,
   "metadata": {},
   "outputs": [
    {
     "output_type": "execute_result",
     "data": {
      "text/plain": [
       "'Definitely a spot to check out when looking for a quality sandwich at a reasonable price.\\n\\nThe shop staff are very friendly and more than willing to accommodate any request. \\n\\nDo yourself a favor and get one of the steak sandwiches off of the menu. They are amazing. The ultra is my favorite.\\n\\nAlso the Cancun fries are awesome. 1 order is for sue big enough to serve 2 people maybe even 3! \\n\\nThis is one of the Peppis that takes credit cards as well. Not all do FYI'"
      ]
     },
     "metadata": {},
     "execution_count": 23
    }
   ],
   "source": [
    "text[0]"
   ]
  },
  {
   "cell_type": "code",
   "execution_count": 24,
   "metadata": {},
   "outputs": [],
   "source": [
    "text = [a.lower() for a in text]"
   ]
  },
  {
   "cell_type": "code",
   "execution_count": 26,
   "metadata": {},
   "outputs": [
    {
     "output_type": "execute_result",
     "data": {
      "text/plain": [
       "'definitely a spot to check out when looking for a quality sandwich at a reasonable price.\\n\\nthe shop staff are very friendly and more than willing to accommodate any request. \\n\\ndo yourself a favor and get one of the steak sandwiches off of the menu. they are amazing. the ultra is my favorite.\\n\\nalso the cancun fries are awesome. 1 order is for sue big enough to serve 2 people maybe even 3! \\n\\nthis is one of the peppis that takes credit cards as well. not all do fyi'"
      ]
     },
     "metadata": {},
     "execution_count": 26
    }
   ],
   "source": [
    "text[0]"
   ]
  },
  {
   "cell_type": "code",
   "execution_count": 27,
   "metadata": {},
   "outputs": [
    {
     "output_type": "stream",
     "name": "stdout",
     "text": [
      "!\"#$%&'()*+,-./:;<=>?@[\\]^_`{|}~\n"
     ]
    }
   ],
   "source": [
    "import string\n",
    "print(string.punctuation)"
   ]
  },
  {
   "cell_type": "code",
   "execution_count": 28,
   "metadata": {},
   "outputs": [],
   "source": [
    "text = [\"\".join([char for char in a if char not in string.punctuation]) for a in text]"
   ]
  },
  {
   "cell_type": "code",
   "execution_count": 29,
   "metadata": {},
   "outputs": [
    {
     "output_type": "execute_result",
     "data": {
      "text/plain": [
       "'definitely a spot to check out when looking for a quality sandwich at a reasonable price\\n\\nthe shop staff are very friendly and more than willing to accommodate any request \\n\\ndo yourself a favor and get one of the steak sandwiches off of the menu they are amazing the ultra is my favorite\\n\\nalso the cancun fries are awesome 1 order is for sue big enough to serve 2 people maybe even 3 \\n\\nthis is one of the peppis that takes credit cards as well not all do fyi'"
      ]
     },
     "metadata": {},
     "execution_count": 29
    }
   ],
   "source": [
    "text[0]"
   ]
  },
  {
   "cell_type": "code",
   "execution_count": 30,
   "metadata": {},
   "outputs": [
    {
     "output_type": "execute_result",
     "data": {
      "text/plain": [
       "['definitely',\n",
       " 'a',\n",
       " 'spot',\n",
       " 'to',\n",
       " 'check',\n",
       " 'out',\n",
       " 'when',\n",
       " 'looking',\n",
       " 'for',\n",
       " 'a',\n",
       " 'quality',\n",
       " 'sandwich',\n",
       " 'at',\n",
       " 'a',\n",
       " 'reasonable',\n",
       " 'price',\n",
       " 'the',\n",
       " 'shop',\n",
       " 'staff',\n",
       " 'are',\n",
       " 'very',\n",
       " 'friendly',\n",
       " 'and',\n",
       " 'more',\n",
       " 'than',\n",
       " 'willing',\n",
       " 'to',\n",
       " 'accommodate',\n",
       " 'any',\n",
       " 'request',\n",
       " 'do',\n",
       " 'yourself',\n",
       " 'a',\n",
       " 'favor',\n",
       " 'and',\n",
       " 'get',\n",
       " 'one',\n",
       " 'of',\n",
       " 'the',\n",
       " 'steak',\n",
       " 'sandwiches',\n",
       " 'off',\n",
       " 'of',\n",
       " 'the',\n",
       " 'menu',\n",
       " 'they',\n",
       " 'are',\n",
       " 'amazing',\n",
       " 'the',\n",
       " 'ultra',\n",
       " 'is',\n",
       " 'my',\n",
       " 'favorite',\n",
       " 'also',\n",
       " 'the',\n",
       " 'cancun',\n",
       " 'fries',\n",
       " 'are',\n",
       " 'awesome',\n",
       " '1',\n",
       " 'order',\n",
       " 'is',\n",
       " 'for',\n",
       " 'sue',\n",
       " 'big',\n",
       " 'enough',\n",
       " 'to',\n",
       " 'serve',\n",
       " '2',\n",
       " 'people',\n",
       " 'maybe',\n",
       " 'even',\n",
       " '3',\n",
       " 'this',\n",
       " 'is',\n",
       " 'one',\n",
       " 'of',\n",
       " 'the',\n",
       " 'peppis',\n",
       " 'that',\n",
       " 'takes',\n",
       " 'credit',\n",
       " 'cards',\n",
       " 'as',\n",
       " 'well',\n",
       " 'not',\n",
       " 'all',\n",
       " 'do',\n",
       " 'fyi']"
      ]
     },
     "metadata": {},
     "execution_count": 30
    }
   ],
   "source": [
    "nltk.word_tokenize(text[0])"
   ]
  },
  {
   "cell_type": "code",
   "execution_count": 31,
   "metadata": {},
   "outputs": [],
   "source": [
    "words = [nltk.word_tokenize(a) for a in text]"
   ]
  },
  {
   "cell_type": "code",
   "execution_count": 32,
   "metadata": {},
   "outputs": [
    {
     "output_type": "execute_result",
     "data": {
      "text/plain": [
       "['definitely',\n",
       " 'a',\n",
       " 'spot',\n",
       " 'to',\n",
       " 'check',\n",
       " 'out',\n",
       " 'when',\n",
       " 'looking',\n",
       " 'for',\n",
       " 'a',\n",
       " 'quality',\n",
       " 'sandwich',\n",
       " 'at',\n",
       " 'a',\n",
       " 'reasonable',\n",
       " 'price',\n",
       " 'the',\n",
       " 'shop',\n",
       " 'staff',\n",
       " 'are',\n",
       " 'very',\n",
       " 'friendly',\n",
       " 'and',\n",
       " 'more',\n",
       " 'than',\n",
       " 'willing',\n",
       " 'to',\n",
       " 'accommodate',\n",
       " 'any',\n",
       " 'request',\n",
       " 'do',\n",
       " 'yourself',\n",
       " 'a',\n",
       " 'favor',\n",
       " 'and',\n",
       " 'get',\n",
       " 'one',\n",
       " 'of',\n",
       " 'the',\n",
       " 'steak',\n",
       " 'sandwiches',\n",
       " 'off',\n",
       " 'of',\n",
       " 'the',\n",
       " 'menu',\n",
       " 'they',\n",
       " 'are',\n",
       " 'amazing',\n",
       " 'the',\n",
       " 'ultra',\n",
       " 'is',\n",
       " 'my',\n",
       " 'favorite',\n",
       " 'also',\n",
       " 'the',\n",
       " 'cancun',\n",
       " 'fries',\n",
       " 'are',\n",
       " 'awesome',\n",
       " '1',\n",
       " 'order',\n",
       " 'is',\n",
       " 'for',\n",
       " 'sue',\n",
       " 'big',\n",
       " 'enough',\n",
       " 'to',\n",
       " 'serve',\n",
       " '2',\n",
       " 'people',\n",
       " 'maybe',\n",
       " 'even',\n",
       " '3',\n",
       " 'this',\n",
       " 'is',\n",
       " 'one',\n",
       " 'of',\n",
       " 'the',\n",
       " 'peppis',\n",
       " 'that',\n",
       " 'takes',\n",
       " 'credit',\n",
       " 'cards',\n",
       " 'as',\n",
       " 'well',\n",
       " 'not',\n",
       " 'all',\n",
       " 'do',\n",
       " 'fyi']"
      ]
     },
     "metadata": {},
     "execution_count": 32
    }
   ],
   "source": [
    "words[0]"
   ]
  },
  {
   "cell_type": "code",
   "execution_count": 34,
   "metadata": {},
   "outputs": [
    {
     "output_type": "stream",
     "name": "stderr",
     "text": [
      "[nltk_data] Downloading package stopwords to\n",
      "[nltk_data]     C:\\Users\\Administrator\\AppData\\Roaming\\nltk_data...\n",
      "[nltk_data]   Unzipping corpora\\stopwords.zip.\n"
     ]
    },
    {
     "output_type": "execute_result",
     "data": {
      "text/plain": [
       "True"
      ]
     },
     "metadata": {},
     "execution_count": 34
    }
   ],
   "source": [
    "nltk.download('stopwords')"
   ]
  },
  {
   "cell_type": "code",
   "execution_count": 35,
   "metadata": {},
   "outputs": [
    {
     "output_type": "stream",
     "name": "stdout",
     "text": [
      "['i', 'me', 'my', 'myself', 'we', 'our', 'ours', 'ourselves', 'you', \"you're\", \"you've\", \"you'll\", \"you'd\", 'your', 'yours', 'yourself', 'yourselves', 'he', 'him', 'his', 'himself', 'she', \"she's\", 'her', 'hers', 'herself', 'it', \"it's\", 'its', 'itself', 'they', 'them', 'their', 'theirs', 'themselves', 'what', 'which', 'who', 'whom', 'this', 'that', \"that'll\", 'these', 'those', 'am', 'is', 'are', 'was', 'were', 'be', 'been', 'being', 'have', 'has', 'had', 'having', 'do', 'does', 'did', 'doing', 'a', 'an', 'the', 'and', 'but', 'if', 'or', 'because', 'as', 'until', 'while', 'of', 'at', 'by', 'for', 'with', 'about', 'against', 'between', 'into', 'through', 'during', 'before', 'after', 'above', 'below', 'to', 'from', 'up', 'down', 'in', 'out', 'on', 'off', 'over', 'under', 'again', 'further', 'then', 'once', 'here', 'there', 'when', 'where', 'why', 'how', 'all', 'any', 'both', 'each', 'few', 'more', 'most', 'other', 'some', 'such', 'no', 'nor', 'not', 'only', 'own', 'same', 'so', 'than', 'too', 'very', 's', 't', 'can', 'will', 'just', 'don', \"don't\", 'should', \"should've\", 'now', 'd', 'll', 'm', 'o', 're', 've', 'y', 'ain', 'aren', \"aren't\", 'couldn', \"couldn't\", 'didn', \"didn't\", 'doesn', \"doesn't\", 'hadn', \"hadn't\", 'hasn', \"hasn't\", 'haven', \"haven't\", 'isn', \"isn't\", 'ma', 'mightn', \"mightn't\", 'mustn', \"mustn't\", 'needn', \"needn't\", 'shan', \"shan't\", 'shouldn', \"shouldn't\", 'wasn', \"wasn't\", 'weren', \"weren't\", 'won', \"won't\", 'wouldn', \"wouldn't\"]\n"
     ]
    }
   ],
   "source": [
    "from nltk.corpus import stopwords\n",
    "stop_words = stopwords.words('english')\n",
    "print(stop_words)\n"
   ]
  },
  {
   "cell_type": "code",
   "execution_count": 36,
   "metadata": {},
   "outputs": [],
   "source": [
    "filtered_words = [[word for word in a if word not in stop_words] for a in words]"
   ]
  },
  {
   "cell_type": "code",
   "execution_count": 37,
   "metadata": {},
   "outputs": [
    {
     "output_type": "execute_result",
     "data": {
      "text/plain": [
       "['definitely',\n",
       " 'spot',\n",
       " 'check',\n",
       " 'looking',\n",
       " 'quality',\n",
       " 'sandwich',\n",
       " 'reasonable',\n",
       " 'price',\n",
       " 'shop',\n",
       " 'staff',\n",
       " 'friendly',\n",
       " 'willing',\n",
       " 'accommodate',\n",
       " 'request',\n",
       " 'favor',\n",
       " 'get',\n",
       " 'one',\n",
       " 'steak',\n",
       " 'sandwiches',\n",
       " 'menu',\n",
       " 'amazing',\n",
       " 'ultra',\n",
       " 'favorite',\n",
       " 'also',\n",
       " 'cancun',\n",
       " 'fries',\n",
       " 'awesome',\n",
       " '1',\n",
       " 'order',\n",
       " 'sue',\n",
       " 'big',\n",
       " 'enough',\n",
       " 'serve',\n",
       " '2',\n",
       " 'people',\n",
       " 'maybe',\n",
       " 'even',\n",
       " '3',\n",
       " 'one',\n",
       " 'peppis',\n",
       " 'takes',\n",
       " 'credit',\n",
       " 'cards',\n",
       " 'well',\n",
       " 'fyi']"
      ]
     },
     "metadata": {},
     "execution_count": 37
    }
   ],
   "source": [
    "filtered_words[0]"
   ]
  },
  {
   "cell_type": "code",
   "execution_count": 38,
   "metadata": {},
   "outputs": [
    {
     "output_type": "stream",
     "name": "stderr",
     "text": [
      "[nltk_data] Downloading package wordnet to\n",
      "[nltk_data]     C:\\Users\\Administrator\\AppData\\Roaming\\nltk_data...\n",
      "[nltk_data]   Unzipping corpora\\wordnet.zip.\n"
     ]
    },
    {
     "output_type": "execute_result",
     "data": {
      "text/plain": [
       "True"
      ]
     },
     "metadata": {},
     "execution_count": 38
    }
   ],
   "source": [
    "nltk.download('wordnet')"
   ]
  },
  {
   "cell_type": "code",
   "execution_count": 40,
   "metadata": {},
   "outputs": [],
   "source": [
    "from nltk.stem.wordnet import WordNetLemmatizer\n",
    "lmtzr = WordNetLemmatizer()"
   ]
  },
  {
   "cell_type": "code",
   "execution_count": 41,
   "metadata": {},
   "outputs": [
    {
     "output_type": "execute_result",
     "data": {
      "text/plain": [
       "'word'"
      ]
     },
     "metadata": {},
     "execution_count": 41
    }
   ],
   "source": [
    "lmtzr.lemmatize('words')"
   ]
  },
  {
   "cell_type": "code",
   "execution_count": 42,
   "metadata": {},
   "outputs": [],
   "source": [
    "lemmatized_words = [[lmtzr.lemmatize(x) for x in a] for a in filtered_words]"
   ]
  },
  {
   "cell_type": "code",
   "execution_count": 43,
   "metadata": {},
   "outputs": [
    {
     "output_type": "execute_result",
     "data": {
      "text/plain": [
       "['definitely',\n",
       " 'spot',\n",
       " 'check',\n",
       " 'looking',\n",
       " 'quality',\n",
       " 'sandwich',\n",
       " 'reasonable',\n",
       " 'price',\n",
       " 'shop',\n",
       " 'staff']"
      ]
     },
     "metadata": {},
     "execution_count": 43
    }
   ],
   "source": [
    "lemmatized_words[0][:10]"
   ]
  },
  {
   "cell_type": "code",
   "execution_count": 44,
   "metadata": {},
   "outputs": [],
   "source": [
    "import itertools\n",
    "word_list = list(itertools.chain.from_iterable(lemmatized_words))"
   ]
  },
  {
   "cell_type": "code",
   "execution_count": 45,
   "metadata": {},
   "outputs": [],
   "source": [
    "from collections import Counter\n",
    "freq = pd.DataFrame.from_dict(Counter(word_list), orient='index')"
   ]
  },
  {
   "cell_type": "code",
   "execution_count": 46,
   "metadata": {},
   "outputs": [
    {
     "output_type": "execute_result",
     "data": {
      "text/plain": [
       "                    0\n",
       "food            24050\n",
       "good            21705\n",
       "place           17302\n",
       "great           16984\n",
       "service         15640\n",
       "...               ...\n",
       "tabitha             1\n",
       "broadly             1\n",
       "counterbalance      1\n",
       "cocktailsthe        1\n",
       "paintbrush          1\n",
       "\n",
       "[44125 rows x 1 columns]"
      ],
      "text/html": "<div>\n<style scoped>\n    .dataframe tbody tr th:only-of-type {\n        vertical-align: middle;\n    }\n\n    .dataframe tbody tr th {\n        vertical-align: top;\n    }\n\n    .dataframe thead th {\n        text-align: right;\n    }\n</style>\n<table border=\"1\" class=\"dataframe\">\n  <thead>\n    <tr style=\"text-align: right;\">\n      <th></th>\n      <th>0</th>\n    </tr>\n  </thead>\n  <tbody>\n    <tr>\n      <th>food</th>\n      <td>24050</td>\n    </tr>\n    <tr>\n      <th>good</th>\n      <td>21705</td>\n    </tr>\n    <tr>\n      <th>place</th>\n      <td>17302</td>\n    </tr>\n    <tr>\n      <th>great</th>\n      <td>16984</td>\n    </tr>\n    <tr>\n      <th>service</th>\n      <td>15640</td>\n    </tr>\n    <tr>\n      <th>...</th>\n      <td>...</td>\n    </tr>\n    <tr>\n      <th>tabitha</th>\n      <td>1</td>\n    </tr>\n    <tr>\n      <th>broadly</th>\n      <td>1</td>\n    </tr>\n    <tr>\n      <th>counterbalance</th>\n      <td>1</td>\n    </tr>\n    <tr>\n      <th>cocktailsthe</th>\n      <td>1</td>\n    </tr>\n    <tr>\n      <th>paintbrush</th>\n      <td>1</td>\n    </tr>\n  </tbody>\n</table>\n<p>44125 rows × 1 columns</p>\n</div>"
     },
     "metadata": {},
     "execution_count": 46
    }
   ],
   "source": [
    "freq.sort_values(by=0, ascending=False)"
   ]
  },
  {
   "cell_type": "code",
   "execution_count": 47,
   "metadata": {},
   "outputs": [],
   "source": [
    "dictionary = list(freq[freq[0] > 15].index)"
   ]
  },
  {
   "cell_type": "code",
   "execution_count": 48,
   "metadata": {},
   "outputs": [
    {
     "output_type": "execute_result",
     "data": {
      "text/plain": [
       "['definitely',\n",
       " 'spot',\n",
       " 'check',\n",
       " 'looking',\n",
       " 'quality',\n",
       " 'sandwich',\n",
       " 'reasonable',\n",
       " 'price',\n",
       " 'shop',\n",
       " 'staff']"
      ]
     },
     "metadata": {},
     "execution_count": 48
    }
   ],
   "source": [
    "dictionary[:10]"
   ]
  },
  {
   "cell_type": "code",
   "execution_count": 49,
   "metadata": {},
   "outputs": [],
   "source": [
    "import numpy as np\n",
    "word_embedding = np.zeros([len(lemmatized_words), len(dictionary)])"
   ]
  },
  {
   "cell_type": "code",
   "execution_count": 50,
   "metadata": {},
   "outputs": [],
   "source": [
    "for i,x in enumerate(lemmatized_words):\n",
    "    for j,y in enumerate(dictionary):\n",
    "        word_embedding[i,j] = sum([z == y for z in x])\n",
    "    "
   ]
  },
  {
   "cell_type": "code",
   "execution_count": 52,
   "metadata": {},
   "outputs": [
    {
     "output_type": "execute_result",
     "data": {
      "text/plain": [
       "array([[1., 1., 1., ..., 0., 0., 0.],\n",
       "       [0., 0., 0., ..., 0., 0., 0.],\n",
       "       [0., 0., 0., ..., 0., 0., 0.],\n",
       "       ...,\n",
       "       [0., 0., 1., ..., 0., 0., 0.],\n",
       "       [0., 0., 0., ..., 0., 0., 0.],\n",
       "       [0., 0., 0., ..., 0., 0., 0.]])"
      ]
     },
     "metadata": {},
     "execution_count": 52
    }
   ],
   "source": [
    "word_embedding"
   ]
  },
  {
   "cell_type": "code",
   "execution_count": 53,
   "metadata": {},
   "outputs": [
    {
     "output_type": "execute_result",
     "data": {
      "text/plain": [
       "(33629, 6074)"
      ]
     },
     "metadata": {},
     "execution_count": 53
    }
   ],
   "source": [
    "word_embedding.shape"
   ]
  },
  {
   "cell_type": "code",
   "execution_count": 55,
   "metadata": {},
   "outputs": [
    {
     "output_type": "execute_result",
     "data": {
      "text/plain": [
       "1"
      ]
     },
     "metadata": {},
     "execution_count": 55
    }
   ],
   "source": [
    "sum([x == 'price' for x in lemmatized_words[0]])"
   ]
  },
  {
   "cell_type": "code",
   "execution_count": 61,
   "metadata": {},
   "outputs": [],
   "source": [
    "#words_df=pd.DataFrame(word_embedding, columns=dictionary)"
   ]
  },
  {
   "cell_type": "code",
   "execution_count": null,
   "metadata": {},
   "outputs": [],
   "source": [
    "#steak.to_csv (r'steak.csv', index = False, header=True)\n",
    "#words_df.to_csv (r'words_df.csv', index = False, header=True)"
   ]
  },
  {
   "cell_type": "code",
   "execution_count": 62,
   "metadata": {},
   "outputs": [],
   "source": [
    "df = pd.concat([steak, pd.DataFrame(word_embedding, columns=dictionary)], axis=1)"
   ]
  },
  {
   "cell_type": "code",
   "execution_count": 63,
   "metadata": {},
   "outputs": [
    {
     "output_type": "execute_result",
     "data": {
      "text/plain": [
       "       stars_x  useful                                               text  \\\n",
       "0            4       2  Definitely a spot to check out when looking fo...   \n",
       "1            1       1  I gave this place 2 chances. i love japanese f...   \n",
       "2            4       0  Very fresh food and authentic Italian taste. T...   \n",
       "3            5       0  This is my favorite happy hour place in all of...   \n",
       "4            4       1  Ruth Chris Steakhouse is by far one of the bes...   \n",
       "...        ...     ...                                                ...   \n",
       "33624        1       0  Worst Applebee's I've been to. Service is bett...   \n",
       "33625        3       1  Great breakfasts. I downgraded it bc the sausa...   \n",
       "33626        1       2  Came to Morton on New Year's Eve, very disappo...   \n",
       "33627        5       0  Have always loved The Ribeye.  The best salad ...   \n",
       "33628        2       0  Compared to other Hibachi restaurants I have b...   \n",
       "\n",
       "                            name  \\\n",
       "0                        Peppi's   \n",
       "1                         Katana   \n",
       "2               Grandview Saloon   \n",
       "3             Tempest Oyster Bar   \n",
       "4        Ruths Chris Steak House   \n",
       "...                          ...   \n",
       "33624     Applebee's Grill + Bar   \n",
       "33625        Quaker Steak & Lube   \n",
       "33626    Morton's The Steakhouse   \n",
       "33627                 The Ribeye   \n",
       "33628  Watami Hibachi Steakhouse   \n",
       "\n",
       "                                                 address                city  \\\n",
       "0                                       12 Smithfield St          Pittsburgh   \n",
       "1                                     3229 W Liberty Ave          Pittsburgh   \n",
       "2                                     1212 Grandview Ave          Pittsburgh   \n",
       "3                                        120 E Wilson St             Madison   \n",
       "4                                               6 PPG Pl          Pittsburgh   \n",
       "...                                                  ...                 ...   \n",
       "33624                                     14020 Cedar Rd  University Heights   \n",
       "33625  5300 Riverside Dr, Concourse B - Inside the Ai...           Cleveland   \n",
       "33626                                      1600 W 2nd St           Cleveland   \n",
       "33627                                     1701 S Neil St           Champaign   \n",
       "33628                             2033 Lebanon Church Rd        West Mifflin   \n",
       "\n",
       "      state postal_code  stars_y  \\\n",
       "0        PA       15222      4.0   \n",
       "1        PA       15216      3.0   \n",
       "2        PA       15211      3.0   \n",
       "3        WI       53703      4.0   \n",
       "4        PA       15222      4.0   \n",
       "...     ...         ...      ...   \n",
       "33624    OH       44118      2.0   \n",
       "33625    OH       44135      3.5   \n",
       "33626    OH       44113      3.5   \n",
       "33627    IL       61820      3.5   \n",
       "33628    PA       15122      4.5   \n",
       "\n",
       "                                              attributes  ... roost  susans  \\\n",
       "0      {'RestaurantsReservations': 'False', 'Restaura...  ...   0.0     0.0   \n",
       "1      {'RestaurantsAttire': 'u'casual'', 'Restaurant...  ...   0.0     0.0   \n",
       "2      {'Alcohol': 'u'full_bar'', 'WiFi': ''free'', '...  ...   0.0     0.0   \n",
       "3      {'RestaurantsTakeOut': 'False', 'WiFi': 'u'no'...  ...   0.0     0.0   \n",
       "4      {'BusinessParking': '{'garage': False, 'street...  ...   0.0     0.0   \n",
       "...                                                  ...  ...   ...     ...   \n",
       "33624  {'HasTV': 'True', 'RestaurantsPriceRange2': '2...  ...   0.0     0.0   \n",
       "33625  {'BusinessAcceptsCreditCards': 'True', 'GoodFo...  ...   0.0     0.0   \n",
       "33626  {'NoiseLevel': 'u'average'', 'GoodForKids': 'F...  ...   0.0     0.0   \n",
       "33627  {'RestaurantsTakeOut': 'False', 'GoodForKids':...  ...   0.0     0.0   \n",
       "33628  {'RestaurantsReservations': 'True', 'BusinessA...  ...   0.0     0.0   \n",
       "\n",
       "       porta  wisconsinite  girves  ballantine  wurst  bavaria  timpones  \\\n",
       "0        0.0           0.0     0.0         0.0    0.0      0.0       0.0   \n",
       "1        0.0           0.0     0.0         0.0    0.0      0.0       0.0   \n",
       "2        0.0           0.0     0.0         0.0    0.0      0.0       0.0   \n",
       "3        0.0           0.0     0.0         0.0    0.0      0.0       0.0   \n",
       "4        0.0           0.0     0.0         0.0    0.0      0.0       0.0   \n",
       "...      ...           ...     ...         ...    ...      ...       ...   \n",
       "33624    0.0           0.0     0.0         0.0    0.0      0.0       0.0   \n",
       "33625    0.0           0.0     0.0         0.0    0.0      0.0       0.0   \n",
       "33626    0.0           0.0     0.0         0.0    0.0      0.0       0.0   \n",
       "33627    0.0           0.0     0.0         0.0    0.0      0.0       0.0   \n",
       "33628    0.0           0.0     0.0         0.0    0.0      0.0       0.0   \n",
       "\n",
       "       torito  \n",
       "0         0.0  \n",
       "1         0.0  \n",
       "2         0.0  \n",
       "3         0.0  \n",
       "4         0.0  \n",
       "...       ...  \n",
       "33624     0.0  \n",
       "33625     0.0  \n",
       "33626     0.0  \n",
       "33627     0.0  \n",
       "33628     0.0  \n",
       "\n",
       "[33629 rows x 6085 columns]"
      ],
      "text/html": "<div>\n<style scoped>\n    .dataframe tbody tr th:only-of-type {\n        vertical-align: middle;\n    }\n\n    .dataframe tbody tr th {\n        vertical-align: top;\n    }\n\n    .dataframe thead th {\n        text-align: right;\n    }\n</style>\n<table border=\"1\" class=\"dataframe\">\n  <thead>\n    <tr style=\"text-align: right;\">\n      <th></th>\n      <th>stars_x</th>\n      <th>useful</th>\n      <th>text</th>\n      <th>name</th>\n      <th>address</th>\n      <th>city</th>\n      <th>state</th>\n      <th>postal_code</th>\n      <th>stars_y</th>\n      <th>attributes</th>\n      <th>...</th>\n      <th>roost</th>\n      <th>susans</th>\n      <th>porta</th>\n      <th>wisconsinite</th>\n      <th>girves</th>\n      <th>ballantine</th>\n      <th>wurst</th>\n      <th>bavaria</th>\n      <th>timpones</th>\n      <th>torito</th>\n    </tr>\n  </thead>\n  <tbody>\n    <tr>\n      <th>0</th>\n      <td>4</td>\n      <td>2</td>\n      <td>Definitely a spot to check out when looking fo...</td>\n      <td>Peppi's</td>\n      <td>12 Smithfield St</td>\n      <td>Pittsburgh</td>\n      <td>PA</td>\n      <td>15222</td>\n      <td>4.0</td>\n      <td>{'RestaurantsReservations': 'False', 'Restaura...</td>\n      <td>...</td>\n      <td>0.0</td>\n      <td>0.0</td>\n      <td>0.0</td>\n      <td>0.0</td>\n      <td>0.0</td>\n      <td>0.0</td>\n      <td>0.0</td>\n      <td>0.0</td>\n      <td>0.0</td>\n      <td>0.0</td>\n    </tr>\n    <tr>\n      <th>1</th>\n      <td>1</td>\n      <td>1</td>\n      <td>I gave this place 2 chances. i love japanese f...</td>\n      <td>Katana</td>\n      <td>3229 W Liberty Ave</td>\n      <td>Pittsburgh</td>\n      <td>PA</td>\n      <td>15216</td>\n      <td>3.0</td>\n      <td>{'RestaurantsAttire': 'u'casual'', 'Restaurant...</td>\n      <td>...</td>\n      <td>0.0</td>\n      <td>0.0</td>\n      <td>0.0</td>\n      <td>0.0</td>\n      <td>0.0</td>\n      <td>0.0</td>\n      <td>0.0</td>\n      <td>0.0</td>\n      <td>0.0</td>\n      <td>0.0</td>\n    </tr>\n    <tr>\n      <th>2</th>\n      <td>4</td>\n      <td>0</td>\n      <td>Very fresh food and authentic Italian taste. T...</td>\n      <td>Grandview Saloon</td>\n      <td>1212 Grandview Ave</td>\n      <td>Pittsburgh</td>\n      <td>PA</td>\n      <td>15211</td>\n      <td>3.0</td>\n      <td>{'Alcohol': 'u'full_bar'', 'WiFi': ''free'', '...</td>\n      <td>...</td>\n      <td>0.0</td>\n      <td>0.0</td>\n      <td>0.0</td>\n      <td>0.0</td>\n      <td>0.0</td>\n      <td>0.0</td>\n      <td>0.0</td>\n      <td>0.0</td>\n      <td>0.0</td>\n      <td>0.0</td>\n    </tr>\n    <tr>\n      <th>3</th>\n      <td>5</td>\n      <td>0</td>\n      <td>This is my favorite happy hour place in all of...</td>\n      <td>Tempest Oyster Bar</td>\n      <td>120 E Wilson St</td>\n      <td>Madison</td>\n      <td>WI</td>\n      <td>53703</td>\n      <td>4.0</td>\n      <td>{'RestaurantsTakeOut': 'False', 'WiFi': 'u'no'...</td>\n      <td>...</td>\n      <td>0.0</td>\n      <td>0.0</td>\n      <td>0.0</td>\n      <td>0.0</td>\n      <td>0.0</td>\n      <td>0.0</td>\n      <td>0.0</td>\n      <td>0.0</td>\n      <td>0.0</td>\n      <td>0.0</td>\n    </tr>\n    <tr>\n      <th>4</th>\n      <td>4</td>\n      <td>1</td>\n      <td>Ruth Chris Steakhouse is by far one of the bes...</td>\n      <td>Ruths Chris Steak House</td>\n      <td>6 PPG Pl</td>\n      <td>Pittsburgh</td>\n      <td>PA</td>\n      <td>15222</td>\n      <td>4.0</td>\n      <td>{'BusinessParking': '{'garage': False, 'street...</td>\n      <td>...</td>\n      <td>0.0</td>\n      <td>0.0</td>\n      <td>0.0</td>\n      <td>0.0</td>\n      <td>0.0</td>\n      <td>0.0</td>\n      <td>0.0</td>\n      <td>0.0</td>\n      <td>0.0</td>\n      <td>0.0</td>\n    </tr>\n    <tr>\n      <th>...</th>\n      <td>...</td>\n      <td>...</td>\n      <td>...</td>\n      <td>...</td>\n      <td>...</td>\n      <td>...</td>\n      <td>...</td>\n      <td>...</td>\n      <td>...</td>\n      <td>...</td>\n      <td>...</td>\n      <td>...</td>\n      <td>...</td>\n      <td>...</td>\n      <td>...</td>\n      <td>...</td>\n      <td>...</td>\n      <td>...</td>\n      <td>...</td>\n      <td>...</td>\n      <td>...</td>\n    </tr>\n    <tr>\n      <th>33624</th>\n      <td>1</td>\n      <td>0</td>\n      <td>Worst Applebee's I've been to. Service is bett...</td>\n      <td>Applebee's Grill + Bar</td>\n      <td>14020 Cedar Rd</td>\n      <td>University Heights</td>\n      <td>OH</td>\n      <td>44118</td>\n      <td>2.0</td>\n      <td>{'HasTV': 'True', 'RestaurantsPriceRange2': '2...</td>\n      <td>...</td>\n      <td>0.0</td>\n      <td>0.0</td>\n      <td>0.0</td>\n      <td>0.0</td>\n      <td>0.0</td>\n      <td>0.0</td>\n      <td>0.0</td>\n      <td>0.0</td>\n      <td>0.0</td>\n      <td>0.0</td>\n    </tr>\n    <tr>\n      <th>33625</th>\n      <td>3</td>\n      <td>1</td>\n      <td>Great breakfasts. I downgraded it bc the sausa...</td>\n      <td>Quaker Steak &amp; Lube</td>\n      <td>5300 Riverside Dr, Concourse B - Inside the Ai...</td>\n      <td>Cleveland</td>\n      <td>OH</td>\n      <td>44135</td>\n      <td>3.5</td>\n      <td>{'BusinessAcceptsCreditCards': 'True', 'GoodFo...</td>\n      <td>...</td>\n      <td>0.0</td>\n      <td>0.0</td>\n      <td>0.0</td>\n      <td>0.0</td>\n      <td>0.0</td>\n      <td>0.0</td>\n      <td>0.0</td>\n      <td>0.0</td>\n      <td>0.0</td>\n      <td>0.0</td>\n    </tr>\n    <tr>\n      <th>33626</th>\n      <td>1</td>\n      <td>2</td>\n      <td>Came to Morton on New Year's Eve, very disappo...</td>\n      <td>Morton's The Steakhouse</td>\n      <td>1600 W 2nd St</td>\n      <td>Cleveland</td>\n      <td>OH</td>\n      <td>44113</td>\n      <td>3.5</td>\n      <td>{'NoiseLevel': 'u'average'', 'GoodForKids': 'F...</td>\n      <td>...</td>\n      <td>0.0</td>\n      <td>0.0</td>\n      <td>0.0</td>\n      <td>0.0</td>\n      <td>0.0</td>\n      <td>0.0</td>\n      <td>0.0</td>\n      <td>0.0</td>\n      <td>0.0</td>\n      <td>0.0</td>\n    </tr>\n    <tr>\n      <th>33627</th>\n      <td>5</td>\n      <td>0</td>\n      <td>Have always loved The Ribeye.  The best salad ...</td>\n      <td>The Ribeye</td>\n      <td>1701 S Neil St</td>\n      <td>Champaign</td>\n      <td>IL</td>\n      <td>61820</td>\n      <td>3.5</td>\n      <td>{'RestaurantsTakeOut': 'False', 'GoodForKids':...</td>\n      <td>...</td>\n      <td>0.0</td>\n      <td>0.0</td>\n      <td>0.0</td>\n      <td>0.0</td>\n      <td>0.0</td>\n      <td>0.0</td>\n      <td>0.0</td>\n      <td>0.0</td>\n      <td>0.0</td>\n      <td>0.0</td>\n    </tr>\n    <tr>\n      <th>33628</th>\n      <td>2</td>\n      <td>0</td>\n      <td>Compared to other Hibachi restaurants I have b...</td>\n      <td>Watami Hibachi Steakhouse</td>\n      <td>2033 Lebanon Church Rd</td>\n      <td>West Mifflin</td>\n      <td>PA</td>\n      <td>15122</td>\n      <td>4.5</td>\n      <td>{'RestaurantsReservations': 'True', 'BusinessA...</td>\n      <td>...</td>\n      <td>0.0</td>\n      <td>0.0</td>\n      <td>0.0</td>\n      <td>0.0</td>\n      <td>0.0</td>\n      <td>0.0</td>\n      <td>0.0</td>\n      <td>0.0</td>\n      <td>0.0</td>\n      <td>0.0</td>\n    </tr>\n  </tbody>\n</table>\n<p>33629 rows × 6085 columns</p>\n</div>"
     },
     "metadata": {},
     "execution_count": 63
    }
   ],
   "source": [
    "df"
   ]
  },
  {
   "cell_type": "code",
   "execution_count": 64,
   "metadata": {},
   "outputs": [],
   "source": [
    "df.to_csv (r'steak_cleaned.csv', index = False, header=True)"
   ]
  },
  {
   "cell_type": "code",
   "execution_count": null,
   "metadata": {},
   "outputs": [],
   "source": []
  }
 ],
 "metadata": {
  "kernelspec": {
   "display_name": "Python 3",
   "language": "python",
   "name": "python3"
  },
  "language_info": {
   "codemirror_mode": {
    "name": "ipython",
    "version": 3
   },
   "file_extension": ".py",
   "mimetype": "text/x-python",
   "name": "python",
   "nbconvert_exporter": "python",
   "pygments_lexer": "ipython3",
   "version": "3.7.6-final"
  }
 },
 "nbformat": 4,
 "nbformat_minor": 4
}